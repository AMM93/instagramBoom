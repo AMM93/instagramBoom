{
 "cells": [
  {
   "cell_type": "markdown",
   "metadata": {},
   "source": [
    "## Autor: Antonio Moreno Martín"
   ]
  },
  {
   "cell_type": "markdown",
   "metadata": {},
   "source": [
    "# Importamos Librerías"
   ]
  },
  {
   "cell_type": "code",
   "execution_count": 58,
   "metadata": {},
   "outputs": [
    {
     "name": "stdout",
     "output_type": "stream",
     "text": [
      "Nuevo Follow! Sigues a: palaciiosmariana\n",
      "Has dado a like it!, llevas 1 likes!\n"
     ]
    },
    {
     "ename": "NoSuchElementException",
     "evalue": "Message: no such element: Unable to locate element: {\"method\":\"xpath\",\"selector\":\"/html/body/div[5]/div[2]/div/article/header/div[2]/div[1]/div[2]/button\"}\n  (Session info: chrome=86.0.4240.111)\n",
     "output_type": "error",
     "traceback": [
      "\u001b[0;31m---------------------------------------------------------------------------\u001b[0m",
      "\u001b[0;31mNoSuchElementException\u001b[0m                    Traceback (most recent call last)",
      "\u001b[0;32m<ipython-input-58-69223abe81d6>\u001b[0m in \u001b[0;36m<module>\u001b[0;34m\u001b[0m\n\u001b[1;32m     75\u001b[0m     \u001b[0;32mfor\u001b[0m \u001b[0mx\u001b[0m \u001b[0;32min\u001b[0m \u001b[0mrange\u001b[0m\u001b[0;34m(\u001b[0m\u001b[0;36m1\u001b[0m\u001b[0;34m,\u001b[0m \u001b[0;36m10\u001b[0m\u001b[0;34m)\u001b[0m\u001b[0;34m:\u001b[0m\u001b[0;34m\u001b[0m\u001b[0;34m\u001b[0m\u001b[0m\n\u001b[1;32m     76\u001b[0m \u001b[0;34m\u001b[0m\u001b[0m\n\u001b[0;32m---> 77\u001b[0;31m         \u001b[0;32mif\u001b[0m \u001b[0mwebdriver\u001b[0m\u001b[0;34m.\u001b[0m\u001b[0mfind_element_by_xpath\u001b[0m\u001b[0;34m(\u001b[0m\u001b[0mfollow_button\u001b[0m\u001b[0;34m)\u001b[0m\u001b[0;34m.\u001b[0m\u001b[0mtext\u001b[0m \u001b[0;34m==\u001b[0m \u001b[0;34m'Seguir'\u001b[0m\u001b[0;34m:\u001b[0m \u001b[0;31m# Si lo tienes en inglés, cambiálo por Follow!\u001b[0m\u001b[0;34m\u001b[0m\u001b[0;34m\u001b[0m\u001b[0m\n\u001b[0m\u001b[1;32m     78\u001b[0m             \u001b[0mfollow\u001b[0m \u001b[0;34m=\u001b[0m \u001b[0mwebdriver\u001b[0m\u001b[0;34m.\u001b[0m\u001b[0mfind_element_by_xpath\u001b[0m\u001b[0;34m(\u001b[0m\u001b[0mfollow_button\u001b[0m\u001b[0;34m)\u001b[0m\u001b[0;34m\u001b[0m\u001b[0;34m\u001b[0m\u001b[0m\n\u001b[1;32m     79\u001b[0m             \u001b[0mfollow\u001b[0m\u001b[0;34m.\u001b[0m\u001b[0mclick\u001b[0m\u001b[0;34m(\u001b[0m\u001b[0;34m)\u001b[0m\u001b[0;34m\u001b[0m\u001b[0;34m\u001b[0m\u001b[0m\n",
      "\u001b[0;32m/opt/miniconda3/lib/python3.7/site-packages/selenium/webdriver/remote/webdriver.py\u001b[0m in \u001b[0;36mfind_element_by_xpath\u001b[0;34m(self, xpath)\u001b[0m\n\u001b[1;32m    392\u001b[0m             \u001b[0melement\u001b[0m \u001b[0;34m=\u001b[0m \u001b[0mdriver\u001b[0m\u001b[0;34m.\u001b[0m\u001b[0mfind_element_by_xpath\u001b[0m\u001b[0;34m(\u001b[0m\u001b[0;34m'//div/td[1]'\u001b[0m\u001b[0;34m)\u001b[0m\u001b[0;34m\u001b[0m\u001b[0;34m\u001b[0m\u001b[0m\n\u001b[1;32m    393\u001b[0m         \"\"\"\n\u001b[0;32m--> 394\u001b[0;31m         \u001b[0;32mreturn\u001b[0m \u001b[0mself\u001b[0m\u001b[0;34m.\u001b[0m\u001b[0mfind_element\u001b[0m\u001b[0;34m(\u001b[0m\u001b[0mby\u001b[0m\u001b[0;34m=\u001b[0m\u001b[0mBy\u001b[0m\u001b[0;34m.\u001b[0m\u001b[0mXPATH\u001b[0m\u001b[0;34m,\u001b[0m \u001b[0mvalue\u001b[0m\u001b[0;34m=\u001b[0m\u001b[0mxpath\u001b[0m\u001b[0;34m)\u001b[0m\u001b[0;34m\u001b[0m\u001b[0;34m\u001b[0m\u001b[0m\n\u001b[0m\u001b[1;32m    395\u001b[0m \u001b[0;34m\u001b[0m\u001b[0m\n\u001b[1;32m    396\u001b[0m     \u001b[0;32mdef\u001b[0m \u001b[0mfind_elements_by_xpath\u001b[0m\u001b[0;34m(\u001b[0m\u001b[0mself\u001b[0m\u001b[0;34m,\u001b[0m \u001b[0mxpath\u001b[0m\u001b[0;34m)\u001b[0m\u001b[0;34m:\u001b[0m\u001b[0;34m\u001b[0m\u001b[0;34m\u001b[0m\u001b[0m\n",
      "\u001b[0;32m/opt/miniconda3/lib/python3.7/site-packages/selenium/webdriver/remote/webdriver.py\u001b[0m in \u001b[0;36mfind_element\u001b[0;34m(self, by, value)\u001b[0m\n\u001b[1;32m    976\u001b[0m         return self.execute(Command.FIND_ELEMENT, {\n\u001b[1;32m    977\u001b[0m             \u001b[0;34m'using'\u001b[0m\u001b[0;34m:\u001b[0m \u001b[0mby\u001b[0m\u001b[0;34m,\u001b[0m\u001b[0;34m\u001b[0m\u001b[0;34m\u001b[0m\u001b[0m\n\u001b[0;32m--> 978\u001b[0;31m             'value': value})['value']\n\u001b[0m\u001b[1;32m    979\u001b[0m \u001b[0;34m\u001b[0m\u001b[0m\n\u001b[1;32m    980\u001b[0m     \u001b[0;32mdef\u001b[0m \u001b[0mfind_elements\u001b[0m\u001b[0;34m(\u001b[0m\u001b[0mself\u001b[0m\u001b[0;34m,\u001b[0m \u001b[0mby\u001b[0m\u001b[0;34m=\u001b[0m\u001b[0mBy\u001b[0m\u001b[0;34m.\u001b[0m\u001b[0mID\u001b[0m\u001b[0;34m,\u001b[0m \u001b[0mvalue\u001b[0m\u001b[0;34m=\u001b[0m\u001b[0;32mNone\u001b[0m\u001b[0;34m)\u001b[0m\u001b[0;34m:\u001b[0m\u001b[0;34m\u001b[0m\u001b[0;34m\u001b[0m\u001b[0m\n",
      "\u001b[0;32m/opt/miniconda3/lib/python3.7/site-packages/selenium/webdriver/remote/webdriver.py\u001b[0m in \u001b[0;36mexecute\u001b[0;34m(self, driver_command, params)\u001b[0m\n\u001b[1;32m    319\u001b[0m         \u001b[0mresponse\u001b[0m \u001b[0;34m=\u001b[0m \u001b[0mself\u001b[0m\u001b[0;34m.\u001b[0m\u001b[0mcommand_executor\u001b[0m\u001b[0;34m.\u001b[0m\u001b[0mexecute\u001b[0m\u001b[0;34m(\u001b[0m\u001b[0mdriver_command\u001b[0m\u001b[0;34m,\u001b[0m \u001b[0mparams\u001b[0m\u001b[0;34m)\u001b[0m\u001b[0;34m\u001b[0m\u001b[0;34m\u001b[0m\u001b[0m\n\u001b[1;32m    320\u001b[0m         \u001b[0;32mif\u001b[0m \u001b[0mresponse\u001b[0m\u001b[0;34m:\u001b[0m\u001b[0;34m\u001b[0m\u001b[0;34m\u001b[0m\u001b[0m\n\u001b[0;32m--> 321\u001b[0;31m             \u001b[0mself\u001b[0m\u001b[0;34m.\u001b[0m\u001b[0merror_handler\u001b[0m\u001b[0;34m.\u001b[0m\u001b[0mcheck_response\u001b[0m\u001b[0;34m(\u001b[0m\u001b[0mresponse\u001b[0m\u001b[0;34m)\u001b[0m\u001b[0;34m\u001b[0m\u001b[0;34m\u001b[0m\u001b[0m\n\u001b[0m\u001b[1;32m    322\u001b[0m             response['value'] = self._unwrap_value(\n\u001b[1;32m    323\u001b[0m                 response.get('value', None))\n",
      "\u001b[0;32m/opt/miniconda3/lib/python3.7/site-packages/selenium/webdriver/remote/errorhandler.py\u001b[0m in \u001b[0;36mcheck_response\u001b[0;34m(self, response)\u001b[0m\n\u001b[1;32m    240\u001b[0m                 \u001b[0malert_text\u001b[0m \u001b[0;34m=\u001b[0m \u001b[0mvalue\u001b[0m\u001b[0;34m[\u001b[0m\u001b[0;34m'alert'\u001b[0m\u001b[0;34m]\u001b[0m\u001b[0;34m.\u001b[0m\u001b[0mget\u001b[0m\u001b[0;34m(\u001b[0m\u001b[0;34m'text'\u001b[0m\u001b[0;34m)\u001b[0m\u001b[0;34m\u001b[0m\u001b[0;34m\u001b[0m\u001b[0m\n\u001b[1;32m    241\u001b[0m             \u001b[0;32mraise\u001b[0m \u001b[0mexception_class\u001b[0m\u001b[0;34m(\u001b[0m\u001b[0mmessage\u001b[0m\u001b[0;34m,\u001b[0m \u001b[0mscreen\u001b[0m\u001b[0;34m,\u001b[0m \u001b[0mstacktrace\u001b[0m\u001b[0;34m,\u001b[0m \u001b[0malert_text\u001b[0m\u001b[0;34m)\u001b[0m\u001b[0;34m\u001b[0m\u001b[0;34m\u001b[0m\u001b[0m\n\u001b[0;32m--> 242\u001b[0;31m         \u001b[0;32mraise\u001b[0m \u001b[0mexception_class\u001b[0m\u001b[0;34m(\u001b[0m\u001b[0mmessage\u001b[0m\u001b[0;34m,\u001b[0m \u001b[0mscreen\u001b[0m\u001b[0;34m,\u001b[0m \u001b[0mstacktrace\u001b[0m\u001b[0;34m)\u001b[0m\u001b[0;34m\u001b[0m\u001b[0;34m\u001b[0m\u001b[0m\n\u001b[0m\u001b[1;32m    243\u001b[0m \u001b[0;34m\u001b[0m\u001b[0m\n\u001b[1;32m    244\u001b[0m     \u001b[0;32mdef\u001b[0m \u001b[0m_value_or_default\u001b[0m\u001b[0;34m(\u001b[0m\u001b[0mself\u001b[0m\u001b[0;34m,\u001b[0m \u001b[0mobj\u001b[0m\u001b[0;34m,\u001b[0m \u001b[0mkey\u001b[0m\u001b[0;34m,\u001b[0m \u001b[0mdefault\u001b[0m\u001b[0;34m)\u001b[0m\u001b[0;34m:\u001b[0m\u001b[0;34m\u001b[0m\u001b[0;34m\u001b[0m\u001b[0m\n",
      "\u001b[0;31mNoSuchElementException\u001b[0m: Message: no such element: Unable to locate element: {\"method\":\"xpath\",\"selector\":\"/html/body/div[5]/div[2]/div/article/header/div[2]/div[1]/div[2]/button\"}\n  (Session info: chrome=86.0.4240.111)\n"
     ]
    }
   ],
   "source": [
    "from selenium import webdriver\n",
    "from selenium.webdriver.common.keys import Keys\n",
    "from time import sleep, strftime\n",
    "from random import randrange as randint\n",
    "import pandas as pd\n",
    "\n",
    "# Activamos el chromedriver\n",
    "\n",
    "chromedriver_path = '/Users/tono/Downloads/chromedriver'\n",
    "webdriver = webdriver.Chrome(executable_path=chromedriver_path)\n",
    "sleep(randint(2,4)) # Lo hacemos dormir 2 ó 3 ó 4 segundos \n",
    "webdriver.get('https://www.instagram.com/accounts/login/?source=auth_switcher')\n",
    "sleep(randint(2,4))\n",
    "\n",
    "# Introducimos las credenciales para acceder al perfil de Instagram deseado\n",
    "\n",
    "# Quitamos la primera pestaña de cookies que suele emerger al entrar en Instagram\n",
    "cookies = webdriver.find_element_by_xpath('/html/body/div[2]/div/div/div/div[2]/button[1]')\n",
    "cookies.click()\n",
    "sleep(3)\n",
    "\n",
    "# Insertamos el usuario y contraseñas de nuestro perfil de Instagram\n",
    "username = webdriver.find_element_by_name('username')\n",
    "sleep(randint(2,5))\n",
    "username.send_keys('arceuaemex')\n",
    "\n",
    "password = webdriver.find_element_by_name('password')\n",
    "password.send_keys('teldat25')\n",
    "sleep(randint(1,5))\n",
    "\n",
    "# Popup tipico una vez nos hemos registrado\n",
    "button_login = webdriver.find_element_by_xpath('/html/body/div[1]/section/main/div/article/div/div[1]/div/form/div/div[3]/button/div')\n",
    "button_login.click()\n",
    "sleep(randint(2,6))\n",
    "\n",
    "# Otra ventana que cerraremos\n",
    "ahora_no = webdriver.find_element_by_xpath('/html/body/div[1]/section/main/div/div/div/div/button')\n",
    "ahora_no.click()\n",
    "\n",
    "notifications = webdriver.find_element_by_xpath('/html/body/div[4]/div/div/div/div[3]/button[2]')\n",
    "notifications.click()\n",
    "sleep(randint(2,6))\n",
    "\n",
    "# Buscamos los hashtags que escribamos en esta lista\n",
    "hashtag_list = ['puebla']\n",
    "\n",
    "\n",
    "prev_user_list = []  # - if it's the first time you run it, use this line and comment the two below\n",
    "\n",
    "#prev_user_list = pd.read_csv('Hackeados.csv', delimiter=',').iloc[:,1:2] # useful to build a user log\n",
    "\n",
    "\n",
    "new_followings = []\n",
    "tag = -1\n",
    "followed = 0\n",
    "likes = 0\n",
    "comments = 0\n",
    "count = 0 # Count para appendear en un pandas los nuevos usuarios al final del codigo\n",
    "\n",
    "# Definimos los elementos que tendremos que leer de la página web\n",
    "username = \"/html/body/div[4]/div[2]/div/article/header/div[2]/div[1]/div[1]/a\"\n",
    "follow_button = \"/html/body/div[5]/div[2]/div/article/header/div[2]/div[1]/div[2]/button\"\n",
    "like_button = \"/html/body/div[5]/div[2]/div/article/div[3]/section[1]/span[1]/button\"\n",
    "comment_button = \"/html/body/div[5]/div[2]/div/article/div[3]/section[1]/span[2]/button\"\n",
    "\n",
    "\n",
    "for hashtag in hashtag_list:\n",
    "    tag += 1\n",
    "    webdriver.get('https://www.instagram.com/explore/tags/' + hashtag_list[tag] + '/')\n",
    "    sleep(5)\n",
    "    first_thumbnail = webdriver.find_element_by_xpath('//*[@id=\"react-root\"]/section/main/article/div[1]/div/div/div[1]/div[1]/a/div')\n",
    "    first_thumbnail.click()\n",
    "    sleep(randint(2, 5))\n",
    "    count = 0\n",
    "    for x in range(1, 10):\n",
    "        \n",
    "        if webdriver.find_element_by_xpath(follow_button).text == 'Seguir': # Si lo tienes en inglés, cambiálo por Follow!\n",
    "            follow = webdriver.find_element_by_xpath(follow_button)\n",
    "            follow.click()\n",
    "            \n",
    "            new_user = webdriver.find_element_by_xpath(\"/html/body/div[5]/div[2]/div/article/header/div[2]/div[1]/div[1]/span/a\").text\n",
    "            print(\"Nuevo Follow! Sigues a: \" + new_user)           \n",
    "            new_followings.append(new_user)\n",
    "\n",
    "            followed += 1\n",
    "            sleep(randint(5, 10))\n",
    "\n",
    "            # Damos like a foto\n",
    "            like = webdriver.find_element_by_xpath(like_button)\n",
    "            like.click()\n",
    "            likes += 1\n",
    "                \n",
    "            print(\"Has dado a like it!, llevas %d likes!\" %(likes))    \n",
    "            sleep(randint(5, 10))\n",
    "            \n",
    "            # Click sobre el icono de comentario para abrir el box del texto de comentarios\n",
    "            comment = webdriver.find_element_by_xpath(comment_button)\n",
    "            comment.click()\n",
    "            sleep(randint(2, 5))\n",
    "            comments+=1\n",
    "            \n",
    "\n",
    "            comment_box = webdriver.find_element_by_xpath(\"/html/body/div[5]/div[2]/div/article/div[3]/section[3]/div/form/textarea\")\n",
    "            comm_prob = randint(1, 30)\n",
    "\n",
    "            if ((comm_prob>=1)& (comm_prob<=6)):\n",
    "\n",
    "                comment_box.send_keys('Mexico!!')\n",
    "                sleep(randint(2, 6))\n",
    "\n",
    "            if ((comm_prob>=7)& (comm_prob<=12)):\n",
    "\n",
    "                comment_box.send_keys('Really cool!')\n",
    "                sleep(randint(2, 6))\n",
    "\n",
    "            if ((comm_prob>=13)& (comm_prob<=18)):\n",
    "                comment_box.send_keys('Enjoy it!!! :)')\n",
    "                \n",
    "                sleep(randint(2, 6))\n",
    "            if ((comm_prob>=19)& (comm_prob<=24)):\n",
    "                comment_box.send_keys('Nice shot!!')\n",
    "                sleep(randint(2, 6))\n",
    "                \n",
    "            if ((comm_prob>=25)& (comm_prob<=30)):\n",
    "                comment_box.send_keys('Wow! So cute')\n",
    "                sleep(randint(2, 6))\n",
    "                # Enter to post comment\n",
    "                \n",
    "            comment_box.send_keys(Keys.ENTER)\n",
    "            comm_prob = randint(1, 30)\n",
    "            sleep(randint(5, 10))\n",
    "            try:\n",
    "                button_next = webdriver.find_element_by_xpath(\"/html/body/div[5]/div[1]/div/div/a\")                                           \n",
    "                button_next.click()\n",
    "            except:\n",
    "                button_next = webdriver.find_element_by_xpath(\"/html/body/div[5]/div[1]/div/div/a[2]\")                                           \n",
    "                button_next.click()                \n",
    "            \n",
    "        elif webdriver.find_element_by_xpath(follow_button).text == 'Siguiendo': # Si lo tienes en inglés, cambiálo por Follow!\n",
    "            print(\"Ya seguíamos a este usuario, go next\")\n",
    "            try:\n",
    "                button_next = webdriver.find_element_by_xpath(\"/html/body/div[5]/div[1]/div/div/a\")                                           \n",
    "                button_next.click()\n",
    "            except:\n",
    "                button_next = webdriver.find_element_by_xpath(\"/html/body/div[5]/div[1]/div/div/a[2]\")                                           \n",
    "                button_next.click()  \n",
    "            sleep(randint(3, 5))"
   ]
  },
  {
   "cell_type": "code",
   "execution_count": 51,
   "metadata": {},
   "outputs": [
    {
     "data": {
      "text/plain": [
       "[]"
      ]
     },
     "execution_count": 51,
     "metadata": {},
     "output_type": "execute_result"
    }
   ],
   "source": [
    "new_followings"
   ]
  },
  {
   "cell_type": "code",
   "execution_count": 47,
   "metadata": {},
   "outputs": [
    {
     "name": "stdout",
     "output_type": "stream",
     "text": [
      "Liked 2 photos.\n",
      "Commented 2 photos.\n",
      "Followed 2 new people.\n"
     ]
    }
   ],
   "source": [
    "import numpy as np\n",
    "pd_new_follows = pd.DataFrame(columns = ['User'])\n",
    "for i in np.arange(len(new_followings)):\n",
    "    pd_new_follows.loc[i] = new_followings[i]\n",
    "             \n",
    "\n",
    "updated_user_df = pd.DataFrame(prev_user_list)\n",
    "updated_user_df.to_csv('Hackeados.csv')\n",
    "print('Liked {} photos.'.format(likes))\n",
    "print('Commented {} photos.'.format(comments))\n",
    "print('Followed {} new people.'.format(followed))"
   ]
  }
 ],
 "metadata": {
  "kernelspec": {
   "display_name": "Python 3",
   "language": "python",
   "name": "python3"
  },
  "language_info": {
   "codemirror_mode": {
    "name": "ipython",
    "version": 3
   },
   "file_extension": ".py",
   "mimetype": "text/x-python",
   "name": "python",
   "nbconvert_exporter": "python",
   "pygments_lexer": "ipython3",
   "version": "3.7.9"
  },
  "toc": {
   "base_numbering": 1,
   "nav_menu": {},
   "number_sections": true,
   "sideBar": true,
   "skip_h1_title": false,
   "title_cell": "Table of Contents",
   "title_sidebar": "Contents",
   "toc_cell": false,
   "toc_position": {},
   "toc_section_display": true,
   "toc_window_display": true
  }
 },
 "nbformat": 4,
 "nbformat_minor": 2
}
